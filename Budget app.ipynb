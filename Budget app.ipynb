{
 "cells": [
  {
   "cell_type": "markdown",
   "metadata": {},
   "source": [
    "# Budget App"
   ]
  },
  {
   "cell_type": "markdown",
   "metadata": {},
   "source": [
    "<pre>\n",
    "To-do:\n",
    "    1.  Add fixed/floating variable functionality\n",
    "    1.1 Have floating variables change automatically in response to adjustments\n",
    "    1.2 Set up a buffer value such that the rest of the budget is always used up\n",
    "    2.  Clean up data display\n",
    "</pre>    "
   ]
  },
  {
   "cell_type": "code",
   "execution_count": 2,
   "metadata": {
    "collapsed": true
   },
   "outputs": [],
   "source": [
    "#Defining Functions\n",
    "\n",
    "#federal taxes\n",
    "def fedtax(pretax):\n",
    "    if pretax<9526:\n",
    "        return pretax*0.9\n",
    "    elif 9525<pretax<38701:\n",
    "        return pretax*.88\n",
    "    elif 38700<pretax<82501:\n",
    "        return pretax*.78\n",
    "    elif 82500<pretax<157501:\n",
    "        return pretax*.76\n",
    "    elif pretax>157500:\n",
    "        print('Go hire an accountant you rich asshole!')\n",
    "\n",
    "#state tax\n",
    "def statetax(postfed,pretax):\n",
    "    state = input('Which state? (DC, MD, VA): ')\n",
    "    if state not in ['DC','MD','VA']:\n",
    "        print('State must be in the DMV')\n",
    "        print('No state taxes applied')\n",
    "        state = ''\n",
    "    elif state == 'VA':\n",
    "        if pretax>17000:\n",
    "            return postfed-(.02*3000)-(.03*2000)-(.05*12000)-(.0575*(pretax-17000))\n",
    "        elif 17001>pretax>5000:\n",
    "            return postfed-(.02*3000)-(.03*2000)-(.05*12000)\n",
    "        else:\n",
    "            return postfed-(.02*3000)-(.03*2000)\n",
    "    elif state == 'DC':\n",
    "        if pretax<10001:\n",
    "            return postfed-(.04*pretax)\n",
    "        elif 10000<pretax<40001:\n",
    "            return postfed-(.04*10000)-(.06*(pretax-10000))\n",
    "        elif 40000<pretax<60001:\n",
    "            return postfed-(.04*10000)-(.06*30000)-(.065*(pretax-40000))\n",
    "        elif 60000<pretax<351000:\n",
    "            return postfed-(.04*10000)-(.06*30000)-(.065*20000)-(0.85*(pretax-60000))\n",
    "        else:\n",
    "            return postfed-(.04*10000)-(.06*30000)-(.065*20000)-(0.85*290000)-(8.75*(pretax-350000))\n",
    "    #MD tax estimate is very rough, incorporates the 3.2% Montgomery County tax\n",
    "    elif state == 'MD':\n",
    "        if pretax<100001:\n",
    "            return postfed-(.07*pretax)\n",
    "        else:\n",
    "            return postfed-(.084*pretax)\n",
    "        \n",
    "\n",
    "#savings\n",
    "def saver(net):\n",
    "    def saverate(rate,net):\n",
    "        if rate>0:\n",
    "            return net*(rate/100)\n",
    "        else:\n",
    "            return 0\n",
    "    sav = input('Will you save by % or $? ')\n",
    "    if sav == '%':\n",
    "        rate = int(input('What percent of [takehome] income will you save? '))\n",
    "        savings = saverate(rate,net)\n",
    "    elif sav=='$':\n",
    "        amt = input('What amount do you want to save annually? $')\n",
    "        savings = float(amt)\n",
    "    net = net-savings\n",
    "    monthly_budget['savings'] = savings/12\n",
    "    annual_budget['savings'] = savings\n",
    "    \n",
    "#student loans\n",
    "def loaner(net):\n",
    "    payment = float(input('How much are you paying monthly toward student loans? $'))\n",
    "    anloan = payment*12\n",
    "    monthly_budget['student loans'] = payment\n",
    "    annual_budget['student loans'] = anloan\n",
    "    \n",
    "#rent\n",
    "def renter(net):\n",
    "    check = input('Do you have a place to live? (Y/N) ')\n",
    "    if check == 'Y':\n",
    "        rent = float(input('How much do you pay monthly in rent? $'))*12\n",
    "    elif check =='N':\n",
    "        search = input('looking at rents by % or $? ')\n",
    "        if search == '$':\n",
    "            rent=float(input('What is the maximum monthly rent you are willing to pay? $'))*12\n",
    "        elif search == '%':\n",
    "            rrate=float(input('What percent of your income will you spend on rent? '))\n",
    "            rent = net*(rrate/100)\n",
    "    monthly_budget['rent'] = rent/12\n",
    "    annual_budget['rent'] = rent\n",
    "    return rent\n",
    "\n",
    "#transit\n",
    "def commute():\n",
    "    fare = float(input('How much will it cost to tavel to/from work one-way? $'))\n",
    "    transit=fare*524\n",
    "    monthly_budget['transit'] = transit/12\n",
    "    annual_budget['transit'] = transit\n",
    "    \n",
    "#food\n",
    "def foodcost():\n",
    "    week = float(input('How much do you spend on food per week? $'))\n",
    "    month = week*4.34\n",
    "    annual = month*12\n",
    "    monthly_budget['food'] = month\n",
    "    annual_budget['food'] = annual\n",
    "    \n",
    "#going out budget\n",
    "def goingout():\n",
    "    nights = int(input('How many nights a week will you go out? '))\n",
    "    ano = float(input('How much do you spend on an average night out? $'))\n",
    "    gb = nights*ano*4.34\n",
    "    monthly_budget['going out'] = gb\n",
    "    annual_budget['going out'] = gb*12\n",
    "\n",
    "#add other costs\n",
    "def addcost():\n",
    "    mc = True\n",
    "    while mc == True:\n",
    "        x = input('Do you have additional costs?(Y/N) ')\n",
    "        if x == 'N':\n",
    "            mc = False\n",
    "        elif x == 'Y':\n",
    "            name = input('name of cost: ')\n",
    "            freq = input('frequency(day/week/month/year): ')\n",
    "            price = float(input('cost: $'))\n",
    "            \n",
    "            #leaves open possibility of parametric costs\n",
    "            vari = input('hard cost or variable? ')\n",
    "\n",
    "            if name in monthly_budget:\n",
    "                print('Must use a unique cost name!')\n",
    "            else:\n",
    "                if freq == 'day':\n",
    "                    x=input('Workdays only?(Y/N) ')\n",
    "                    if x == 'Y':\n",
    "                        cost = price*262\n",
    "                    elif x == 'N':\n",
    "                        cost = price*365\n",
    "                elif freq == 'week':\n",
    "                    cost = price*52\n",
    "                elif freq == 'month':\n",
    "                    cost = price*12\n",
    "                elif freq == 'year':\n",
    "                    cost = price\n",
    "                monthly_budget[name] = cost/12\n",
    "                annual_budget[name] = cost\n",
    "                \n",
    "#adjustment functions for both monthly and annual costs\n",
    "def adjust_annual():\n",
    "    for i in annual_budget.items():\n",
    "        print(i)\n",
    "    select = input('Which will you adjust? ')\n",
    "    if select in annual_budget.keys():\n",
    "        nv = float(input('new value = $'))\n",
    "        monthly_budget[select] = nv/12\n",
    "        annual_budget[select] = nv\n",
    "    \n",
    "def adjust_monthly():\n",
    "    for i in monthly_budget.items():\n",
    "        print(i)\n",
    "    select = input('Which will you adjust? ')\n",
    "    if select in monthly_budget.keys():\n",
    "        nv = float(input('new value = $'))\n",
    "        monthly_budget[select] = nv\n",
    "        annual_budget[select] = nv*12"
   ]
  },
  {
   "cell_type": "code",
   "execution_count": 3,
   "metadata": {
    "collapsed": true
   },
   "outputs": [],
   "source": [
    "#adjustment functions for both monthly and annual costs\n",
    "def adjust_annual():\n",
    "    for i in annual_budget.items():\n",
    "        print(i)\n",
    "    select = input('Which will you adjust? ')\n",
    "    if select in annual_budget.keys():\n",
    "        nv = float(input('new value = $'))\n",
    "        monthly_budget[select] = nv/12\n",
    "        annual_budget[select] = nv\n",
    "    \n",
    "def adjust_monthly():\n",
    "    for i in monthly_budget.items():\n",
    "        print(i)\n",
    "    select = input('Which will you adjust? ')\n",
    "    if select in monthly_budget.keys():\n",
    "        nv = float(input('new value = $'))\n",
    "        monthly_budget[select] = nv\n",
    "        annual_budget[select] = nv*12"
   ]
  },
  {
   "cell_type": "code",
   "execution_count": 4,
   "metadata": {},
   "outputs": [
    {
     "name": "stdout",
     "output_type": "stream",
     "text": [
      "Gross salary: $65000\n",
      "Which state? (DC, MD, VA): VA\n",
      "Will you save by % or $? $\n",
      "What amount do you want to save annually? $6000\n",
      "How much are you paying monthly toward student loans? $260\n",
      "Do you have a place to live? (Y/N) N\n",
      "looking at rents by % or $? $\n",
      "What is the maximum monthly rent you are willing to pay? $1500\n",
      "How much will it cost to tavel to/from work one-way? $7\n",
      "How much do you spend on food per week? $100\n",
      "How many nights a week will you go out? 3\n",
      "How much do you spend on an average night out? $35\n"
     ]
    }
   ],
   "source": [
    "monthly_budget = {}\n",
    "annual_budget = {}\n",
    "\n",
    "#salary and taxes\n",
    "gross = int(input('Gross salary: $'))\n",
    "postfed=fedtax(gross)\n",
    "net=statetax(postfed,gross)\n",
    "\n",
    "#fed and state are actual amount paid in each tax\n",
    "fed=gross-postfed\n",
    "state=postfed-net\n",
    "takehome=net\n",
    "\n",
    "#savings\n",
    "saver(net)\n",
    "\n",
    "#student loans\n",
    "loaner(takehome)\n",
    "\n",
    "#rent\n",
    "rent = renter(takehome)\n",
    "\n",
    "#transit\n",
    "commute()\n",
    "\n",
    "#food\n",
    "foodcost()\n",
    "\n",
    "#going out budget\n",
    "goingout()"
   ]
  },
  {
   "cell_type": "code",
   "execution_count": null,
   "metadata": {
    "collapsed": true
   },
   "outputs": [],
   "source": [
    "#additional costs\n",
    "addcost()"
   ]
  },
  {
   "cell_type": "code",
   "execution_count": 5,
   "metadata": {
    "scrolled": true
   },
   "outputs": [
    {
     "name": "stdout",
     "output_type": "stream",
     "text": [
      "Annual: \n",
      "takehome = 47220.0\n",
      "savings = 6000.0\n",
      "student loans = 3120.0\n",
      "rent = 18000.0\n",
      "transit = 3668.0\n",
      "food = 5208.0\n",
      "going out = 5468.4\n",
      "leftover money = 5755.6\n"
     ]
    }
   ],
   "source": [
    "print('Annual: ')\n",
    "shmoney = takehome\n",
    "for i in annual_budget.values():\n",
    "    shmoney=shmoney-i\n",
    "print('takehome = '+str(takehome))\n",
    "for key,value in annual_budget.items():\n",
    "    value=round(value,2)\n",
    "    print(str(key)+' = '+str(value))\n",
    "print('leftover money = '+str(round(shmoney,2)))"
   ]
  },
  {
   "cell_type": "code",
   "execution_count": 6,
   "metadata": {
    "scrolled": false
   },
   "outputs": [
    {
     "name": "stdout",
     "output_type": "stream",
     "text": [
      "Monthly:\n",
      "takehome = 3935.0\n",
      "savings = 500.0\n",
      "student loans = 260.0\n",
      "rent = 1500.0\n",
      "transit = 305.67\n",
      "food = 434.0\n",
      "going out = 455.7\n",
      "\n",
      "leftover money = 479.63\n"
     ]
    }
   ],
   "source": [
    "print('Monthly:')\n",
    "shmoney = takehome\n",
    "for i in annual_budget.values():\n",
    "    shmoney=shmoney-i\n",
    "print('takehome = '+str(round(takehome/12,2)))\n",
    "for key,value in monthly_budget.items():\n",
    "    value=round(value,2)\n",
    "    print(str(key)+' = '+str(value))\n",
    "print('')\n",
    "print('leftover money = '+str(round(shmoney/12,2)))"
   ]
  },
  {
   "cell_type": "code",
   "execution_count": null,
   "metadata": {
    "collapsed": true
   },
   "outputs": [],
   "source": [
    "adjust_monthly()"
   ]
  },
  {
   "cell_type": "code",
   "execution_count": null,
   "metadata": {
    "collapsed": true
   },
   "outputs": [],
   "source": [
    "adjust_annual()"
   ]
  },
  {
   "cell_type": "markdown",
   "metadata": {},
   "source": [
    "<pre>\n",
    "1. create a pool of variable cost money\n",
    "2. record percentage of pool per varcost\n",
    "3. when varcost is adjusted, all other varcosts increase in proportion to percent of pool (adjusted cost becomes fixed at a new ratio)\n",
    "---create an option for this\n",
    "---no data for this calculation needs to be displayed\n",
    "\n",
    "final step: record percent of total costs\n",
    "</pre>"
   ]
  },
  {
   "cell_type": "code",
   "execution_count": 16,
   "metadata": {
    "scrolled": true
   },
   "outputs": [
    {
     "name": "stdout",
     "output_type": "stream",
     "text": [
      "federal_taxes : 22.0%\n",
      "state_taxes : 5.35%\n",
      "savings : 9.23%\n",
      "student loans : 4.8%\n",
      "rent : 27.69%\n",
      "transit : 5.64%\n",
      "food : 8.01%\n",
      "going out : 8.41%\n",
      "leftover money : 8.85%\n"
     ]
    }
   ],
   "source": [
    "#breaks down costs by % of gross salary\n",
    "grosscosts = {}\n",
    "grosscosts['federal_taxes']=round((fed/gross)*100,2)\n",
    "grosscosts['state_taxes']=round((state/gross)*100,2)\n",
    "\n",
    "for key,value in annual_budget.items():\n",
    "    grosscosts[key]=round((value/gross)*100,2)\n",
    "grosscosts['leftover money']=round((shmoney/gross)*100,2)\n",
    "    \n",
    "for x,y in grosscosts.items():\n",
    "    print(str(x)+' : '+str(y)+'%')"
   ]
  },
  {
   "cell_type": "code",
   "execution_count": 17,
   "metadata": {},
   "outputs": [
    {
     "name": "stdout",
     "output_type": "stream",
     "text": [
      "savings : 12.71%\n",
      "student loans : 6.61%\n",
      "rent : 38.12%\n",
      "transit : 7.77%\n",
      "food : 11.03%\n",
      "going out : 11.58%\n",
      "leftover money : 12.19%\n"
     ]
    }
   ],
   "source": [
    "#breaks down costs by % of takehome (after taxes)\n",
    "takehomecosts = {}\n",
    "for key,value in annual_budget.items():\n",
    "    takehomecosts[key]=round((value/takehome)*100,2)\n",
    "takehomecosts['leftover money']=round((shmoney/takehome)*100,2)\n",
    "for x,y in takehomecosts.items():\n",
    "    print(str(x)+' : '+str(y)+'%')"
   ]
  },
  {
   "cell_type": "code",
   "execution_count": 34,
   "metadata": {},
   "outputs": [],
   "source": [
    "#pie chart maker\n",
    "#argument is a dictionary\n",
    "def piemaker(dt):  \n",
    "    import matplotlib.pyplot as plt\n",
    "    # Pie chart\n",
    "    labels = []\n",
    "    for i in dt.keys():\n",
    "        labels.append(i)\n",
    "    sizes = []\n",
    "    for value in dt.values():\n",
    "        sizes.append(value)\n",
    "    exp = []\n",
    "    for label in labels:\n",
    "        exp.append(.06)\n",
    "\n",
    "    #colors\n",
    "    #colors = ['#ff9999','#66b3ff','#99ff99','#ffcc99']\n",
    "\n",
    "    fig1, ax1 = plt.subplots()\n",
    "    patches, texts, autotexts = ax1.pie(sizes, labels=labels, autopct='%1.1f%%', startangle=90, explode=exp)\n",
    "    for text in texts:\n",
    "        text.set_color('grey')\n",
    "    for autotext in autotexts:\n",
    "        autotext.set_color('black')\n",
    "    # Equal aspect ratio ensures that pie is drawn as a circle\n",
    "    ax1.axis('equal')  \n",
    "    plt.tight_layout()\n",
    "    plt.show()"
   ]
  },
  {
   "cell_type": "code",
   "execution_count": 35,
   "metadata": {},
   "outputs": [
    {
     "data": {
      "image/png": "[encoded data removed]",
      "text/plain": [
       "<matplotlib.figure.Figure at 0x270afefe80>"
      ]
     },
     "metadata": {},
     "output_type": "display_data"
    }
   ],
   "source": [
    "piemaker(grosscosts)"
   ]
  },
  {
   "cell_type": "code",
   "execution_count": 36,
   "metadata": {},
   "outputs": [
    {
     "data": {
      "image/png": "[encoded data removed]",
      "text/plain": [
       "<matplotlib.figure.Figure at 0x270b0010b8>"
      ]
     },
     "metadata": {},
     "output_type": "display_data"
    }
   ],
   "source": [
    "piemaker(takehomecosts)"
   ]
  }
 ],
 "metadata": {
  "kernelspec": {
   "display_name": "Python 3",
   "language": "python",
   "name": "python3"
  },
  "language_info": {
   "codemirror_mode": {
    "name": "ipython",
    "version": 3
   },
   "file_extension": ".py",
   "mimetype": "text/x-python",
   "name": "python",
   "nbconvert_exporter": "python",
   "pygments_lexer": "ipython3",
   "version": "3.6.3"
  }
 },
 "nbformat": 4,
 "nbformat_minor": 2
}
